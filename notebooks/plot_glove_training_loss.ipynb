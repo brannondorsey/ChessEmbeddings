{
 "cells": [
  {
   "cell_type": "markdown",
   "metadata": {},
   "source": [
    "## Plot GloVe Training Loss\n",
    "Here we parse the output of `create_embeddings.sh` and plot the loss for each set of word dimensions.\n",
    "To record a `train.out` file to plot with this notebook run:\n",
    "```\n",
    "create_embeddings.sh &> train.out\n",
    "```"
   ]
  },
  {
   "cell_type": "code",
   "execution_count": 1,
   "metadata": {
    "collapsed": true
   },
   "outputs": [],
   "source": [
    "import re, json\n",
    "import matplotlib.pyplot as plt\n",
    "%matplotlib inline"
   ]
  },
  {
   "cell_type": "code",
   "execution_count": 2,
   "metadata": {
    "collapsed": false
   },
   "outputs": [],
   "source": [
    "def parse_training_output(file):\n",
    "    with open(file, 'r') as f:\n",
    "        text = f.read()\n",
    "    # Match \"vector size: XXX\"\n",
    "    dim_match = '^vector size: \\d+$'\n",
    "    dim_regex = re.compile(dim_match, re.MULTILINE)\n",
    "    dim_matches = dim_regex.finditer(text)\n",
    "\n",
    "    dim_spans = [m.span() for m in dim_matches]\n",
    "    dims = [int(text[start + 13:end]) for start, end in dim_spans]\n",
    "    \n",
    "    grouped_by_dim = []\n",
    "    i = dim_spans[0][0]\n",
    "    for j, _ in enumerate(dim_spans):\n",
    "        if j < len(dim_spans) - 1:\n",
    "            stop = dim_spans[j + 1][1]\n",
    "            grouped_by_dim.append(text[i:stop])\n",
    "        else:\n",
    "            grouped_by_dim.append(text[i:])\n",
    "        i = stop\n",
    "\n",
    "    grouped_by_dim = list(zip(dims, grouped_by_dim))\n",
    "    \n",
    "    # Match the output of each iteration\n",
    "    iter_match = '\\d{2}\\/\\d{2}/\\d{2} - \\d{2}:\\d{2}\\.\\d{2}[APM]{2}, iter: \\d{2,3}, cost: [0-9.]+$'\n",
    "    iter_regex = re.compile(iter_match, re.MULTILINE)\n",
    "    \n",
    "    final = {}\n",
    "    for dim, group in grouped_by_dim:\n",
    "        iter_matches = iter_regex.finditer(group)\n",
    "        g_spans = [m.span() for m in iter_matches]\n",
    "        g = [float(group[start + 40:stop]) for start, stop in g_spans]\n",
    "        final[dim] = g\n",
    "\n",
    "    return final"
   ]
  },
  {
   "cell_type": "code",
   "execution_count": 3,
   "metadata": {
    "collapsed": false
   },
   "outputs": [],
   "source": [
    "results = parse_training_output('../data/embeddings/train.out')"
   ]
  },
  {
   "cell_type": "code",
   "execution_count": 4,
   "metadata": {
    "collapsed": false
   },
   "outputs": [
    {
     "data": {
      "image/png": "[encoded data removed]",
      "text/plain": [
       "<matplotlib.figure.Figure at 0x7fa616678048>"
      ]
     },
     "metadata": {},
     "output_type": "display_data"
    }
   ],
   "source": [
    "for k, v in results.items():\n",
    "    plt.plot(v, label='d{}'.format(k))\n",
    "plt.title('GloVe Training Loss')\n",
    "plt.ylabel('Loss')\n",
    "plt.xlabel('Iterations')\n",
    "plt.legend()\n",
    "plt.show()"
   ]
  },
  {
   "cell_type": "code",
   "execution_count": null,
   "metadata": {
    "collapsed": true
   },
   "outputs": [],
   "source": []
  }
 ],
 "metadata": {
  "kernelspec": {
   "display_name": "Python 3",
   "language": "python",
   "name": "python3"
  },
  "language_info": {
   "codemirror_mode": {
    "name": "ipython",
    "version": 3
   },
   "file_extension": ".py",
   "mimetype": "text/x-python",
   "name": "python",
   "nbconvert_exporter": "python",
   "pygments_lexer": "ipython3",
   "version": "3.5.2"
  }
 },
 "nbformat": 4,
 "nbformat_minor": 2
}
