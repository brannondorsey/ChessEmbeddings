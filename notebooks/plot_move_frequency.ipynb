{
 "cells": [
  {
   "cell_type": "markdown",
   "metadata": {},
   "source": [
    "We will use this notebook to calculate and visualize statistics of our chess move dataset. This will allow us to better understand our limitations and help diagnose problems we may encounter down the road when training/defining our model."
   ]
  },
  {
   "cell_type": "code",
   "execution_count": 1,
   "metadata": {
    "collapsed": true
   },
   "outputs": [],
   "source": [
    "import pdb\n",
    "import numpy as np\n",
    "import matplotlib.pyplot as plt\n",
    "%matplotlib inline"
   ]
  },
  {
   "cell_type": "code",
   "execution_count": 2,
   "metadata": {
    "collapsed": false
   },
   "outputs": [],
   "source": [
    "def get_move_freqs(moves, sort=True):\n",
    "    freq_dict = {}\n",
    "    for move in moves:\n",
    "        if move not in freq_dict:\n",
    "            freq_dict[move] = 0\n",
    "        freq_dict[move] = freq_dict[move] + 1\n",
    "    tuples = [(w, c) for w, c in freq_dict.items()]\n",
    "    if sort:\n",
    "        tuples = sorted(tuples, key=lambda x: -x[1])\n",
    "    return (tuples, moves)\n",
    "\n",
    "def plot_frequency(counts, move_limit=1000):\n",
    "    # limit to the n most frequent moves\n",
    "    n = 1000\n",
    "    counts = counts[0:n]\n",
    "    # from: http://stackoverflow.com/questions/30690619/python-histogram-using-matplotlib-on-top-words\n",
    "    moves = [x[0] for x in counts]\n",
    "    values = [int(x[1]) for x in counts]\n",
    "    bar = plt.bar(range(len(moves)), values, color='green', alpha=0.4)\n",
    "\n",
    "    plt.xlabel('Move Index')\n",
    "    plt.ylabel('Frequency')\n",
    "    plt.title('Move Frequency Chart')\n",
    "\n",
    "    plt.show()\n",
    "    \n",
    "def plot_uniq_over_count(moves, interval=0.01):\n",
    "    \n",
    "    xs, ys = [], []\n",
    "    for i in range(0, len(moves), int(len(moves) * interval)):\n",
    "        chunk = moves[0:i]\n",
    "        uniq = list(set(chunk))\n",
    "        xs.append(len(chunk))\n",
    "        ys.append(len(uniq))\n",
    "    \n",
    "    plt.plot(xs, ys)\n",
    "    plt.ticklabel_format(style='sci', axis='x', scilimits=(0, 0))\n",
    "    plt.xlabel('Moves')\n",
    "    plt.ylabel('Unique Moves')\n",
    "    plt.show()\n",
    "\n",
    "def plot_game_lengths(game_lengths):\n",
    "    \n",
    "    xs = [g[0] for g in game_lengths]\n",
    "    ys = [g[1] for g in game_lengths]\n",
    "    \n",
    "    bar = plt.bar(xs, ys, color='blue', alpha=0.4)\n",
    "\n",
    "    plt.xlabel('Half-moves per game')\n",
    "    plt.ylabel('Frequency')\n",
    "    plt.title('Game Length')\n",
    "\n",
    "    plt.show()\n",
    "    \n",
    "def plot_repeat_states(moves):\n",
    "    \n",
    "    uniq_states = {}\n",
    "    moves_in_game = ''\n",
    "    \n",
    "    for move in moves:\n",
    "        \n",
    "        moves_in_game = moves_in_game + ' ' + move\n",
    "            \n",
    "        if moves_in_game not in uniq_states:\n",
    "            uniq_states[moves_in_game] = 0\n",
    "        \n",
    "        uniq_states[moves_in_game] = uniq_states[moves_in_game] + 1\n",
    "        \n",
    "        if is_game_over_move(move):\n",
    "            moves_in_game = ''\n",
    "    \n",
    "    vals = []\n",
    "    d = {}\n",
    "    \n",
    "    for state, count in sorted(uniq_states.items(), key=lambda x: (-x[1], x[0])):\n",
    "        vals.append((count, state))\n",
    "#         move_count = len(state.split())\n",
    "#         if move_count not in d:\n",
    "#             d[move_count] = 0\n",
    "#         d[move_count] = d[move_count] + 1\n",
    "    \n",
    "    vals.append([c for c, s in vals])\n",
    "    \n",
    "    plt.plot(vals)\n",
    "    plt.xlim([0, 100])\n",
    "    plt.xlabel('Board State')\n",
    "    plt.ylabel('Frequency')\n",
    "    plt.title('Frequency of Board State')\n",
    "    plt.show()\n",
    "    \n",
    "#     vals = [(length, count) for length, count in sorted(d.items(), key=lambda x: -x[0])]\n",
    "#     pdb.set_trace()\n",
    "#     plt.bar(vals)\n",
    "#     plt.xlim([0, 1000])\n",
    "#     plt.xlabel('Moves in State')\n",
    "#     plt.ylabel('Frequency')\n",
    "#     print('{} uniq board states'.format(len(list(uniq_states.keys()))))\n",
    "    \n",
    "def get_game_lengths(moves):\n",
    "    \n",
    "    game_lengths = {}\n",
    "    total_games = 0\n",
    "    current_move = 1\n",
    "    for move in moves:\n",
    "        if is_game_over_move(move):\n",
    "            if current_move not in game_lengths:\n",
    "                game_lengths[current_move] = 0\n",
    "            game_lengths[current_move] = game_lengths[current_move] + 1\n",
    "            current_move = 1\n",
    "            total_games = total_games + 1\n",
    "        else:\n",
    "            current_move = current_move + 1\n",
    "    print(total_games)\n",
    "    return [(k, v) for k, v in game_lengths.items()], total_games\n",
    "            \n",
    "def is_game_over_move(move):\n",
    "    return move in ('0-1', '1-0', '1/2-1/2')"
   ]
  },
  {
   "cell_type": "markdown",
   "metadata": {},
   "source": [
    "Load our concatonated moves data."
   ]
  },
  {
   "cell_type": "code",
   "execution_count": 3,
   "metadata": {
    "collapsed": false
   },
   "outputs": [
    {
     "name": "stdout",
     "output_type": "stream",
     "text": [
      "10108811 moves loaded\n",
      "126872\n"
     ]
    }
   ],
   "source": [
    "with open('../data/train_moves.txt', 'r') as f:\n",
    "    moves = f.read().split(' ')\n",
    "    print('{} moves loaded'.format(len(moves)))\n",
    "    counts, moves = get_move_freqs(moves)\n",
    "    game_lengths, total_games = get_game_lengths(moves)"
   ]
  },
  {
   "cell_type": "code",
   "execution_count": 5,
   "metadata": {
    "collapsed": false
   },
   "outputs": [],
   "source": [
    "# plot_repeat_states(moves)"
   ]
  },
  {
   "cell_type": "markdown",
   "metadata": {},
   "source": [
    "## Plot Move Frequency\n",
    "Here we can see which moves appear most frequently in the dataset. These moves are the most popular moves played by chess champions."
   ]
  },
  {
   "cell_type": "code",
   "execution_count": 6,
   "metadata": {
    "collapsed": false
   },
   "outputs": [
    {
     "data": {
      "image/png": "[encoded data removed]",
      "text/plain": [
       "<matplotlib.figure.Figure at 0x7f68e810a7f0>"
      ]
     },
     "metadata": {},
     "output_type": "display_data"
    }
   ],
   "source": [
    "plot_frequency(counts)"
   ]
  },
  {
   "cell_type": "markdown",
   "metadata": {},
   "source": [
    "We will list the most common few moves along with what percentage of the entire moves dataset this move represents."
   ]
  },
  {
   "cell_type": "code",
   "execution_count": 7,
   "metadata": {
    "collapsed": false
   },
   "outputs": [
    {
     "name": "stdout",
     "output_type": "stream",
     "text": [
      "O-O      2.00%\n",
      "Nf6      1.40%\n",
      "Nf3      1.31%\n",
      "d4       1.26%\n",
      "Nc3      1.15%\n",
      "d5       1.09%\n",
      "e4       1.09%\n",
      "c4       1.07%\n",
      "c5       1.01%\n",
      "e5       0.94%\n"
     ]
    }
   ],
   "source": [
    "top_n = 10\n",
    "for w in counts[0:top_n]:\n",
    "    print((w[0]).ljust(8), '{:.2f}%'.format((w[1]/len(moves)) * 100.00))"
   ]
  },
  {
   "cell_type": "markdown",
   "metadata": {},
   "source": [
    "## Plot Unique Moves\n",
    "Here we compare the number of unique moves over the total move count. Take notice that the number of unique moves converges towards a constant as the number of total moves increase. This would suggest that there is a subset of all possible moves that actually make sense for a chess champion to play."
   ]
  },
  {
   "cell_type": "code",
   "execution_count": 8,
   "metadata": {
    "collapsed": false
   },
   "outputs": [
    {
     "data": {
      "image/png": "[encoded data removed]",
      "text/plain": [
       "<matplotlib.figure.Figure at 0x7f68e7f2ad68>"
      ]
     },
     "metadata": {},
     "output_type": "display_data"
    }
   ],
   "source": [
    "plot_uniq_over_count(moves)"
   ]
  },
  {
   "cell_type": "markdown",
   "metadata": {
    "collapsed": true
   },
   "source": [
    "## Plot Game Lengths"
   ]
  },
  {
   "cell_type": "code",
   "execution_count": 9,
   "metadata": {
    "collapsed": false
   },
   "outputs": [
    {
     "data": {
      "image/png": "[encoded data removed]",
      "text/plain": [
       "<matplotlib.figure.Figure at 0x7f6930988780>"
      ]
     },
     "metadata": {},
     "output_type": "display_data"
    }
   ],
   "source": [
    "plot_game_lengths(game_lengths)"
   ]
  },
  {
   "cell_type": "code",
   "execution_count": 10,
   "metadata": {
    "collapsed": false
   },
   "outputs": [
    {
     "name": "stdout",
     "output_type": "stream",
     "text": [
      "82       2.684%\n",
      "80       1.926%\n",
      "84       1.843%\n",
      "70       1.790%\n",
      "78       1.784%\n",
      "66       1.760%\n",
      "68       1.747%\n",
      "74       1.736%\n",
      "76       1.725%\n",
      "72       1.718%\n"
     ]
    }
   ],
   "source": [
    "top_n = 10\n",
    "sorted_lengths = sorted(game_lengths, key=lambda x: -x[1])\n",
    "for l in sorted_lengths[0:top_n]:\n",
    "    print((str(l[0])).ljust(8), '{:.3f}%'.format((l[1]/total_games) * 100.00))"
   ]
  },
  {
   "cell_type": "code",
   "execution_count": null,
   "metadata": {
    "collapsed": true
   },
   "outputs": [],
   "source": []
  }
 ],
 "metadata": {
  "kernelspec": {
   "display_name": "Python 3",
   "language": "python",
   "name": "python3"
  },
  "language_info": {
   "codemirror_mode": {
    "name": "ipython",
    "version": 3
   },
   "file_extension": ".py",
   "mimetype": "text/x-python",
   "name": "python",
   "nbconvert_exporter": "python",
   "pygments_lexer": "ipython3",
   "version": "3.5.2"
  }
 },
 "nbformat": 4,
 "nbformat_minor": 2
}
