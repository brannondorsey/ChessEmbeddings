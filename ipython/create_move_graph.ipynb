{
 "cells": [
  {
   "cell_type": "code",
   "execution_count": null,
   "metadata": {
    "collapsed": true
   },
   "outputs": [],
   "source": [
    "# Add the parent directory to PYTHONPATH so that we can use utils.py\n",
    "sys.path.append('..')\n",
    "import utils\n",
    "\n",
    "with open('../data/test_moves.txt', 'w') as f:\n",
    "    moves = f.read().split()\n",
    "    current_game = ''\n",
    "    game_state_graph = {}\n",
    "    for move in moves:\n",
    "        \n",
    "        if ()\n",
    "        current_game = current_game + ' ' + move\n",
    "        \n",
    "        uniq_game_states.add(set)\n",
    "        if utils.is_game_over_move(move)\n",
    "            current_game = '' # reset"
   ]
  }
 ],
 "metadata": {
  "kernelspec": {
   "display_name": "Python 3",
   "language": "python",
   "name": "python3"
  },
  "language_info": {
   "codemirror_mode": {
    "name": "ipython",
    "version": 3
   },
   "file_extension": ".py",
   "mimetype": "text/x-python",
   "name": "python",
   "nbconvert_exporter": "python",
   "pygments_lexer": "ipython3",
   "version": "3.5.2"
  }
 },
 "nbformat": 4,
 "nbformat_minor": 2
}
