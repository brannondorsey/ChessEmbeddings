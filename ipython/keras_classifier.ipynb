{
 "cells": [
  {
   "cell_type": "code",
   "execution_count": 1,
   "metadata": {
    "collapsed": false
   },
   "outputs": [
    {
     "name": "stderr",
     "output_type": "stream",
     "text": [
      "Using TensorFlow backend.\n"
     ]
    }
   ],
   "source": [
    "import sys, pdb, os, json, glob\n",
    "import numpy as np\n",
    "from keras.utils.np_utils import to_categorical\n",
    "from keras.models import Sequential, model_from_json\n",
    "from keras.layers import Dense, Dropout\n",
    "from keras.optimizers import Adam, SGD, RMSprop\n",
    "from keras.callbacks import ModelCheckpoint, EarlyStopping\n",
    "import matplotlib.pyplot as plt\n",
    "\n",
    "# Add the parent directory to PYTHONPATH so that we can use utils.py\n",
    "sys.path.append('..')\n",
    "import utils\n",
    "\n",
    "os.environ['CUDA_VISIBLE_DEVICES'] = '0'\n",
    "np.random.seed(1337) #stay 1337 AF\n",
    "\n",
    "%load_ext autoreload\n",
    "%autoreload 2"
   ]
  },
  {
   "cell_type": "code",
   "execution_count": 2,
   "metadata": {
    "collapsed": false
   },
   "outputs": [],
   "source": [
    "d = 50 #dimensionality of word vectors\n",
    "data = utils.build_word_vector_matrix('../data/embeddings/5/vectors_d{}.txt'.format(d))\n",
    "embeddings, labels, id_to_move, move_to_id = data"
   ]
  },
  {
   "cell_type": "code",
   "execution_count": 3,
   "metadata": {
    "collapsed": false
   },
   "outputs": [
    {
     "name": "stdout",
     "output_type": "stream",
     "text": [
      "unknown move Rgxd2\n",
      "unknown move Rgxh6\n"
     ]
    }
   ],
   "source": [
    "X_train, y_train, X_test, y_test, _, _ = utils.load_data('../data/test_moves.txt', embeddings, move_to_id)"
   ]
  },
  {
   "cell_type": "code",
   "execution_count": 4,
   "metadata": {
    "collapsed": false
   },
   "outputs": [],
   "source": [
    "# One-hot encoding\n",
    "uniq_labels = list(move_to_id.values())"
   ]
  },
  {
   "cell_type": "code",
   "execution_count": 5,
   "metadata": {
    "collapsed": false
   },
   "outputs": [],
   "source": [
    "def labels_to_ints(labels):\n",
    "    ints = []\n",
    "    for label in labels:\n",
    "        if label in move_to_id:\n",
    "            ints.append(move_to_id[label])\n",
    "        else:\n",
    "            ints.append(-1)\n",
    "    return ints\n",
    "\n",
    "y_train = np.asarray(labels_to_ints(y_train))\n",
    "y_test  = np.asarray(labels_to_ints(y_test))\n",
    "\n",
    "X_train = np.reshape(X_train, (X_train.shape[0], X_train.shape[1] * X_train.shape[2]))\n",
    "X_test = np.reshape(X_test, (X_test.shape[0], X_test.shape[1] * X_test.shape[2]))"
   ]
  },
  {
   "cell_type": "code",
   "execution_count": 6,
   "metadata": {
    "collapsed": false
   },
   "outputs": [],
   "source": [
    "y_train = to_categorical(y_train, len(uniq_labels))\n",
    "y_test = to_categorical(y_test, len(uniq_labels))"
   ]
  },
  {
   "cell_type": "code",
   "execution_count": 7,
   "metadata": {
    "collapsed": false
   },
   "outputs": [],
   "source": [
    "hyper = {\n",
    "    'layers': [{\n",
    "        'units': 512,\n",
    "        'init': 'normal',\n",
    "        'activation': 'relu',\n",
    "        'dropout': 0.5\n",
    "        },{\n",
    "        'units': 512,\n",
    "        'init': 'normal',\n",
    "        'activation': 'relu',\n",
    "        'dropout': 0.5\n",
    "\n",
    "        },{\n",
    "        'units': len(uniq_labels),\n",
    "        'init': 'normal',\n",
    "        'activation': 'softmax'\n",
    "    }],\n",
    "    'loss': 'categorical_crossentropy',\n",
    "    'optimizer': {\n",
    "        'type': 'sgd',\n",
    "        'lr': 0.0001\n",
    "    },\n",
    "    'metrics': ['accuracy']\n",
    "\n",
    "}\n",
    "\n",
    "model_num = 8\n",
    "\n",
    "## Create new model, or...\n",
    "# model, callbacks = utils.create_model(X_train.shape[1], \n",
    "#                                       len(uniq_labels), \n",
    "#                                       save_dir='../data/models/' + str(model_num),\n",
    "#                                       hyper=hyper,\n",
    "#                                       verbose=False)\n",
    "\n",
    "## Load from checkpoint\n",
    "model = utils.load_model_from_checkpoint('../data/models/' + str(model_num))"
   ]
  },
  {
   "cell_type": "code",
   "execution_count": 8,
   "metadata": {
    "collapsed": true
   },
   "outputs": [],
   "source": [
    "# early stopping\n",
    "# min_delta = the mininum change in the monitored metric before waiting $patience turns before stopping\n",
    "# patience = how many consecutive epochs $val_loss change < min_delta before stopping\n",
    "\n",
    "# callbacks.append(EarlyStopping(monitor='val_loss', \n",
    "#                                min_delta=0.001,  \n",
    "#                                patience=3, \n",
    "#                                verbose=1, \n",
    "#                                mode='auto'))"
   ]
  },
  {
   "cell_type": "code",
   "execution_count": 9,
   "metadata": {
    "collapsed": false
   },
   "outputs": [],
   "source": [
    "# history = model.fit(X_train, \n",
    "#                     y_train, \n",
    "#                     nb_epoch=10, \n",
    "#                     validation_data=(X_test, y_test), \n",
    "#                     callbacks=callbacks,\n",
    "#                     verbose=1)"
   ]
  },
  {
   "cell_type": "code",
   "execution_count": 10,
   "metadata": {
    "collapsed": false
   },
   "outputs": [
    {
     "name": "stdout",
     "output_type": "stream",
     "text": [
      "acc 0.000696378830084\n",
      "loss 8.22240582681\n"
     ]
    }
   ],
   "source": [
    "metrics = model.evaluate(X_test, y_test, verbose=0)\n",
    "metrics = dict(zip(model.metrics_names, metrics))\n",
    "for k, v in metrics.items():\n",
    "    print(k, v)"
   ]
  },
  {
   "cell_type": "code",
   "execution_count": 11,
   "metadata": {
    "collapsed": false
   },
   "outputs": [
    {
     "ename": "NameError",
     "evalue": "name 'history' is not defined",
     "output_type": "error",
     "traceback": [
      "\u001b[0;31m---------------------------------------------------------------------------\u001b[0m",
      "\u001b[0;31mNameError\u001b[0m                                 Traceback (most recent call last)",
      "\u001b[0;32m<ipython-input-11-fe3869f872a4>\u001b[0m in \u001b[0;36m<module>\u001b[0;34m()\u001b[0m\n\u001b[0;32m----> 1\u001b[0;31m \u001b[0mutils\u001b[0m\u001b[0;34m.\u001b[0m\u001b[0mplot_model_results\u001b[0m\u001b[0;34m(\u001b[0m\u001b[0mhistory\u001b[0m\u001b[0;34m,\u001b[0m \u001b[0msavedir\u001b[0m\u001b[0;34m=\u001b[0m\u001b[0;34m'./'\u001b[0m\u001b[0;34m)\u001b[0m\u001b[0;34m\u001b[0m\u001b[0m\n\u001b[0m",
      "\u001b[0;31mNameError\u001b[0m: name 'history' is not defined"
     ]
    }
   ],
   "source": [
    "utils.plot_model_results(history, savedir='./')"
   ]
  },
  {
   "cell_type": "code",
   "execution_count": null,
   "metadata": {
    "collapsed": true
   },
   "outputs": [],
   "source": []
  }
 ],
 "metadata": {
  "kernelspec": {
   "display_name": "Python 3",
   "language": "python",
   "name": "python3"
  },
  "language_info": {
   "codemirror_mode": {
    "name": "ipython",
    "version": 3
   },
   "file_extension": ".py",
   "mimetype": "text/x-python",
   "name": "python",
   "nbconvert_exporter": "python",
   "pygments_lexer": "ipython3",
   "version": "3.5.2"
  }
 },
 "nbformat": 4,
 "nbformat_minor": 2
}
