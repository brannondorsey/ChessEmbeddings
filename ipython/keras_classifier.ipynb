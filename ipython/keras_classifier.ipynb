{
 "cells": [
  {
   "cell_type": "code",
   "execution_count": null,
   "metadata": {
    "collapsed": false
   },
   "outputs": [],
   "source": [
    "import sys, pdb, gc, os, json\n",
    "import numpy as np\n",
    "from sklearn.svm import SVC\n",
    "from sklearn.neighbors import KNeighborsClassifier\n",
    "from keras.utils.np_utils import to_categorical\n",
    "from keras.models import Sequential\n",
    "from keras.layers import Dense, Dropout\n",
    "from keras.optimizers import Adam, SGD, RMSprop\n",
    "from keras.callbacks import ModelCheckpoint, EarlyStopping\n",
    "import matplotlib.pyplot as plt\n",
    "import tensorflow as tf\n",
    "\n",
    "# Add the parent directory to PYTHONPATH so that we can use utils.py\n",
    "sys.path.append('..')\n",
    "import utils\n",
    "\n",
    "os.environ['CUDA_VISIBLE_DEVICES'] = '0'\n",
    "np.random.seed(1337) #stay 1337 AF"
   ]
  },
  {
   "cell_type": "code",
   "execution_count": null,
   "metadata": {
    "collapsed": false
   },
   "outputs": [],
   "source": [
    "d = 50 #dimensionality of word vectors\n",
    "data = utils.build_word_vector_matrix('../data/embeddings/5/vectors_d{}.txt'.format(d))\n",
    "embeddings, labels, id_to_move, move_to_id = data"
   ]
  },
  {
   "cell_type": "code",
   "execution_count": null,
   "metadata": {
    "collapsed": false
   },
   "outputs": [],
   "source": [
    "def print_game(encoded_game):\n",
    "    for state in encoded_game:\n",
    "        print(state)\n",
    "        print('-----------------------------------------------------')\n",
    "\n",
    "def plot_model_results(history):\n",
    "    \n",
    "    plt.rcParams[\"figure.figsize\"] = (12, 8)\n",
    "    \n",
    "    plt.title('Accuracy')\n",
    "    plt.xlabel('Epochs')\n",
    "    plt.ylabel('Accuracy')\n",
    "    plt.plot(history.history['acc'], label='acc')\n",
    "    plt.plot(history.history['val_acc'], label='val_acc')\n",
    "    plt.legend()\n",
    "    plt.show()\n",
    "    \n",
    "    argmax = np.argmax(history.history['val_acc']) \n",
    "    mess = 'Highest val_acc at epoch {} with value of {:.3f}'\n",
    "    print(mess.format(argmax + 1, history.history['val_acc'][argmax]))\n",
    "    \n",
    "    plt.title('Loss')\n",
    "    plt.xlabel('Epochs')\n",
    "    plt.ylabel('Loss')\n",
    "    plt.plot(history.history['loss'], label='loss')\n",
    "    plt.plot(history.history['val_loss'], label='val_loss')\n",
    "    plt.legend()\n",
    "    plt.show()\n",
    "    \n",
    "    mess = 'Lowest val_loss at epoch {} with value of {:.2f}'\n",
    "    argmin = np.argmin(history.history['val_loss'])\n",
    "    print(mess.format(argmin + 1, history.history['val_loss'][argmin]))\n",
    "        \n",
    "def load_data(file, split=(0.7, 0.15, 0.15)):\n",
    "\n",
    "    def test_encoding(X, labels):\n",
    "        X = np.asarray(X)\n",
    "        y = np.asarray(labels)\n",
    "        for i, label in enumerate(labels):\n",
    "            if i < len(labels) - 1:\n",
    "                if label in move_to_id:\n",
    "                    vec = embeddings[move_to_id[label]]\n",
    "                    assert (vec == X[i + 1][i]).all()\n",
    "                else:\n",
    "                    print('unknown move {}'.format(labels[i]))\n",
    "                    \n",
    "    \n",
    "    def is_game_over_move(move):\n",
    "        return move in ('0-1', '1-0', '1/2-1/2')\n",
    "    \n",
    "    def encode_game(moves):\n",
    "        \n",
    "        encoded_X = []\n",
    "        labels = []\n",
    "\n",
    "        state = np.zeros((200, d))\n",
    "        labels.append(moves.pop())\n",
    "        \n",
    "        if len(moves) > 199:\n",
    "            moves = moves[0:199]\n",
    "            print(len(moves))\n",
    "        \n",
    "        for i, move in enumerate(moves):\n",
    "            if move in move_to_id:\n",
    "                vec = embeddings[move_to_id[move]]\n",
    "            else:\n",
    "                # empty if unknown\n",
    "                vec = np.full(d, 0.0)\n",
    "            state[i] = vec\n",
    "        \n",
    "        encoded_X.append(state)\n",
    "        s = np.copy(state)\n",
    "        \n",
    "        while len(moves) > 0:\n",
    "            labels.append(moves.pop())\n",
    "            s[len(moves) - 1] = np.zeros(d)\n",
    "            encoded_X.append(s)\n",
    "            s = np.copy(s)\n",
    "            \n",
    "        labels.reverse()\n",
    "        encoded_X.reverse()\n",
    "        # labels and encoded_X are now symetric,\n",
    "        # (i.e. each encoded_X is an encoding of\n",
    "        # the state of the board after the label),\n",
    "        # but what we really need is for encoded_X\n",
    "        # to describe the state of the board before\n",
    "        # the label. So we insert an empty board \n",
    "        # state as the first element, and pop off\n",
    "        # the last.\n",
    "#         encoded_X.insert(0, np.zeros((200, d)))\n",
    "        encoded_X.pop(0)\n",
    "        \n",
    "        return encoded_X, labels\n",
    "    \n",
    "    def encode_moves(moves):\n",
    "        \n",
    "        encoded = []\n",
    "        labels_array = []\n",
    "        \n",
    "        # find indices of all last moves in a game\n",
    "        last_moves = [is_game_over_move(m) for m in moves]\n",
    "        last_moves = [i for i, t in enumerate(last_moves) if t]\n",
    "        \n",
    "        start = 0\n",
    "        i = 0\n",
    "        for last_move in last_moves:\n",
    "            game = moves[start:last_move + 1]\n",
    "            states, labels = encode_game(game)\n",
    "            labels.pop() # BUG, COME BACK AND FIX THIS\n",
    "            test_encoding(states, labels)\n",
    "            [encoded.append(s) for s in states]\n",
    "#             encoded.append(states)\n",
    "            [labels_array.append(l) for l in labels]\n",
    "            start = last_move + 1\n",
    "#             if i == 1000 - 1:\n",
    "#                 return encoded, labels #COME BACK HERE\n",
    "            i = i + 1\n",
    "        return encoded, labels_array\n",
    "    \n",
    "    # split: train, val/dev, test\n",
    "    with open(file, 'r') as f:\n",
    "        moves = f.read().split()\n",
    "        \n",
    "    train = moves[0:int(len(moves) * split[0])]\n",
    "    val = moves[len(train) + 1:len(train) + int(len(moves) * split[1])]\n",
    "    test = moves[len(train) + len(val) + 1:]\n",
    "\n",
    "    X_train, y_train = encode_moves(train[0:10000])\n",
    "    X_val, y_val     = encode_moves(val[0:1500])\n",
    "    X_test, y_test   = encode_moves(test[0:1000])\n",
    "    return np.asarray(X_train), y_train, np.asarray(X_val), y_val, np.asarray(X_test), y_test\n",
    "    \n",
    "def labels_to_ints(labels):\n",
    "    ints = []\n",
    "    for label in labels:\n",
    "        if label in move_to_id:\n",
    "            ints.append(move_to_id[label])\n",
    "        else:\n",
    "            ints.append(-1)\n",
    "    return ints\n"
   ]
  },
  {
   "cell_type": "code",
   "execution_count": null,
   "metadata": {
    "collapsed": false
   },
   "outputs": [],
   "source": [
    "X_train, y_train, X_test, y_test, _, _ = load_data('../data/test_moves.txt')"
   ]
  },
  {
   "cell_type": "code",
   "execution_count": null,
   "metadata": {
    "collapsed": false
   },
   "outputs": [],
   "source": [
    "# One-hot encoding\n",
    "uniq_labels = list(move_to_id.values())"
   ]
  },
  {
   "cell_type": "code",
   "execution_count": null,
   "metadata": {
    "collapsed": false
   },
   "outputs": [],
   "source": [
    "y_train = np.asarray(labels_to_ints(y_train))\n",
    "y_test  = np.asarray(labels_to_ints(y_test))\n",
    "\n",
    "X_train = np.reshape(X_train, (X_train.shape[0], X_train.shape[1] * X_train.shape[2]))\n",
    "X_test = np.reshape(X_test, (X_test.shape[0], X_test.shape[1] * X_test.shape[2]))"
   ]
  },
  {
   "cell_type": "code",
   "execution_count": null,
   "metadata": {
    "collapsed": false
   },
   "outputs": [],
   "source": [
    "y_train = to_categorical(y_train, len(uniq_labels))\n",
    "y_test = to_categorical(y_test, len(uniq_labels))"
   ]
  },
  {
   "cell_type": "code",
   "execution_count": null,
   "metadata": {
    "collapsed": false
   },
   "outputs": [],
   "source": [
    "hyper = {\n",
    "    'layers': [{\n",
    "        'units': 512,\n",
    "        'init': 'normal',\n",
    "        'activation': 'relu',\n",
    "        'dropout': 0.5\n",
    "        },{\n",
    "        'units': 512,\n",
    "        'init': 'normal',\n",
    "        'activation': 'relu',\n",
    "        'dropout': 0.5\n",
    "\n",
    "        },{\n",
    "        'units': len(uniq_labels),\n",
    "        'init': 'normal',\n",
    "        'activation': 'softmax'\n",
    "    }],\n",
    "    'loss': 'categorical_crossentropy',\n",
    "    'optimizer': {\n",
    "        'type': 'sgd',\n",
    "        'lr': 0.0001\n",
    "    },\n",
    "    'metrics': ['accuracy']\n",
    "\n",
    "}\n",
    "\n",
    "model_num = 7\n",
    "model, callbacks = utils.create_model(X_train.shape[1], \n",
    "                                      len(uniq_labels), \n",
    "                                      save_dir='../data/models/{}'.format(model_num),\n",
    "                                      hyper=hyper,\n",
    "                                      verbose=False)\n",
    "print(model.summary())"
   ]
  },
  {
   "cell_type": "code",
   "execution_count": null,
   "metadata": {
    "collapsed": true
   },
   "outputs": [],
   "source": [
    "# early stopping\n",
    "# min_delta = the mininum change in the monitored metric before waiting $patience turns before stopping\n",
    "# patience = how many consecutive epochs $val_loss change < min_delta before stopping\n",
    "\n",
    "# callbacks.append(EarlyStopping(monitor='val_loss', \n",
    "#                                min_delta=0.001,  \n",
    "#                                patience=3, \n",
    "#                                verbose=1, \n",
    "#                                mode='auto'))"
   ]
  },
  {
   "cell_type": "code",
   "execution_count": null,
   "metadata": {
    "collapsed": false
   },
   "outputs": [],
   "source": [
    "history = model.fit(X_train, \n",
    "                    y_train, \n",
    "                    nb_epoch=25, \n",
    "                    validation_data=(X_test, y_test), \n",
    "                    callbacks=callbacks,\n",
    "                    verbose=1)"
   ]
  },
  {
   "cell_type": "code",
   "execution_count": null,
   "metadata": {
    "collapsed": false
   },
   "outputs": [],
   "source": [
    "plot_model_results(history)"
   ]
  }
 ],
 "metadata": {
  "kernelspec": {
   "display_name": "Python 3",
   "language": "python",
   "name": "python3"
  },
  "language_info": {
   "codemirror_mode": {
    "name": "ipython",
    "version": 3
   },
   "file_extension": ".py",
   "mimetype": "text/x-python",
   "name": "python",
   "nbconvert_exporter": "python",
   "pygments_lexer": "ipython3",
   "version": "3.5.2"
  }
 },
 "nbformat": 4,
 "nbformat_minor": 2
}
